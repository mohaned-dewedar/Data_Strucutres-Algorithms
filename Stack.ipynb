{
  "cells": [
    {
      "cell_type": "code",
      "execution_count": 2,
      "metadata": {
        "id": "tymDjqS8aZyZ"
      },
      "outputs": [],
      "source": [
        "class Stack:\n",
        "\n",
        "    def __init__(self, args=None):\n",
        "        self._stack = list(args) if args is not None else []\n",
        "\n",
        "\n",
        "    def push(self,item):\n",
        "        self._stack.append(item)\n",
        "\n",
        "    def pop(self):\n",
        "        if self.is_empty():\n",
        "            raise IndexError(\"Can't Pop from an Empty Stack\")\n",
        "\n",
        "        else:\n",
        "            self._stack.pop()\n",
        "\n",
        "    def peek(self):\n",
        "        if not self.is_empty():\n",
        "            return self._stack[-1]\n",
        "        else:\n",
        "            return None\n",
        "\n",
        "    def display(self):\n",
        "        print(self._stack)\n",
        "\n",
        "    def is_empty(self):\n",
        "        return len(self._stack)==0\n",
        "\n",
        "    def size(self):\n",
        "        return len(self._stack)\n",
        "\n",
        "    def __iter__(self):\n",
        "        for item in reversed(self._stack):\n",
        "            yield item\n",
        "\n",
        "\n",
        "\n",
        "\n"
      ]
    },
    {
      "cell_type": "code",
      "execution_count": 3,
      "metadata": {
        "colab": {
          "base_uri": "https://localhost:8080/"
        },
        "id": "NHdVLIR7byrF",
        "outputId": "8eac2890-5223-4d1c-f2bc-a652bc1b61ac"
      },
      "outputs": [
        {
          "data": {
            "text/plain": [
              "True"
            ]
          },
          "execution_count": 3,
          "metadata": {},
          "output_type": "execute_result"
        }
      ],
      "source": [
        "stack = Stack()\n",
        "stack.is_empty()"
      ]
    },
    {
      "cell_type": "code",
      "execution_count": 70,
      "metadata": {
        "colab": {
          "base_uri": "https://localhost:8080/"
        },
        "id": "zFgbshBIb-AW",
        "outputId": "667d1969-90d4-4119-a256-a296165c6475"
      },
      "outputs": [
        {
          "name": "stdout",
          "output_type": "stream",
          "text": [
            "[1]\n"
          ]
        }
      ],
      "source": [
        "stack.push(1)\n",
        "stack.display()"
      ]
    },
    {
      "cell_type": "code",
      "execution_count": 71,
      "metadata": {
        "colab": {
          "base_uri": "https://localhost:8080/"
        },
        "id": "7GWCwzCFcYBZ",
        "outputId": "219c7bd3-b397-4c5b-aa15-b994d695bad3"
      },
      "outputs": [
        {
          "name": "stdout",
          "output_type": "stream",
          "text": [
            "[]\n"
          ]
        }
      ],
      "source": [
        "stack.pop()\n",
        "stack.display()"
      ]
    },
    {
      "cell_type": "code",
      "execution_count": 72,
      "metadata": {
        "id": "aeT4yipNceV-"
      },
      "outputs": [],
      "source": [
        "stack.push(5)\n",
        "stack.push(8)"
      ]
    },
    {
      "cell_type": "code",
      "execution_count": 73,
      "metadata": {
        "colab": {
          "base_uri": "https://localhost:8080/"
        },
        "id": "SO2L6A78clge",
        "outputId": "21b733f6-3940-4f5f-ca5f-deabf71558d6"
      },
      "outputs": [
        {
          "name": "stdout",
          "output_type": "stream",
          "text": [
            "[5, 8]\n"
          ]
        }
      ],
      "source": [
        "stack.display()"
      ]
    },
    {
      "cell_type": "code",
      "execution_count": 74,
      "metadata": {
        "colab": {
          "base_uri": "https://localhost:8080/"
        },
        "id": "kfbe7GT5cmY4",
        "outputId": "5badd614-e154-41d2-aece-6340cb3a6ff9"
      },
      "outputs": [
        {
          "data": {
            "text/plain": [
              "8"
            ]
          },
          "execution_count": 74,
          "metadata": {},
          "output_type": "execute_result"
        }
      ],
      "source": [
        "stack.peek()"
      ]
    },
    {
      "cell_type": "code",
      "execution_count": 75,
      "metadata": {
        "colab": {
          "base_uri": "https://localhost:8080/"
        },
        "id": "LsSHAA2TcomT",
        "outputId": "99db4a58-e368-487b-8a49-d1417ed07a37"
      },
      "outputs": [
        {
          "name": "stdout",
          "output_type": "stream",
          "text": [
            "8\n",
            "5\n"
          ]
        }
      ],
      "source": [
        "for item in stack:\n",
        "    print(item)"
      ]
    },
    {
      "cell_type": "code",
      "execution_count": 76,
      "metadata": {
        "colab": {
          "base_uri": "https://localhost:8080/"
        },
        "id": "Mtc1sEdtctvQ",
        "outputId": "0ba98c6e-3de4-4712-cae0-bee5098a87e9"
      },
      "outputs": [
        {
          "data": {
            "text/plain": [
              "2"
            ]
          },
          "execution_count": 76,
          "metadata": {},
          "output_type": "execute_result"
        }
      ],
      "source": [
        "stack.size()"
      ]
    },
    {
      "cell_type": "code",
      "execution_count": null,
      "metadata": {
        "id": "86rLYptKeg32"
      },
      "outputs": [],
      "source": []
    }
  ],
  "metadata": {
    "colab": {
      "provenance": []
    },
    "kernelspec": {
      "display_name": "Python 3",
      "name": "python3"
    },
    "language_info": {
      "codemirror_mode": {
        "name": "ipython",
        "version": 3
      },
      "file_extension": ".py",
      "mimetype": "text/x-python",
      "name": "python",
      "nbconvert_exporter": "python",
      "pygments_lexer": "ipython3",
      "version": "3.11.8"
    }
  },
  "nbformat": 4,
  "nbformat_minor": 0
}
