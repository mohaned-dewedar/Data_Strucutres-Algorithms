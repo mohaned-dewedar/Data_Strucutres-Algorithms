{
  "nbformat": 4,
  "nbformat_minor": 0,
  "metadata": {
    "colab": {
      "provenance": []
    },
    "kernelspec": {
      "name": "python3",
      "display_name": "Python 3"
    },
    "language_info": {
      "name": "python"
    }
  },
  "cells": [
    {
      "cell_type": "code",
      "execution_count": 43,
      "metadata": {
        "id": "xgvBmJKWXXvy"
      },
      "outputs": [],
      "source": [
        "from ast import Return\n",
        "class Node():\n",
        "  def __init__(self,data=None):\n",
        "    self.data=data\n",
        "    self.next = None\n",
        "\n",
        "\n",
        "class LinkedList():\n",
        "  def __init__(self):\n",
        "    self.head=None\n",
        "    self.tail = None\n",
        "\n",
        "  def insert_start(self,data):\n",
        "    new_node = Node(data)\n",
        "    if self.head is None:  # List is empty\n",
        "        self.head = self.tail = new_node\n",
        "    else:\n",
        "        new_node.next = self.head\n",
        "        self.head = new_node\n",
        "\n",
        "  def insert_end(self , data):\n",
        "    new_node = Node(data)\n",
        "    if self.head is None:  # List is empty\n",
        "        self.head = self.tail = new_node\n",
        "    else:\n",
        "        self.tail.next = new_node\n",
        "        self.tail = new_node\n",
        "\n",
        "  def insert_at_index(self, index, data, insert_at_end=True):\n",
        "    if not self.head or index == 0:\n",
        "        self.insert_start(data)\n",
        "        return\n",
        "\n",
        "    current = self.head\n",
        "    position = 0\n",
        "    while current:\n",
        "        if position == index - 1:  # Found the position just before the index\n",
        "            new_node = Node(data)\n",
        "            new_node.next = current.next\n",
        "            current.next = new_node\n",
        "            return\n",
        "        current = current.next\n",
        "        position += 1\n",
        "        if not current.next and position < index:  # Reached the end but not the index\n",
        "            if insert_at_end:\n",
        "                self.insert_end(data)\n",
        "            else:\n",
        "                raise IndexError(\"Index is out of Bounds,Can not be inserted there. Check 'insert_at_end' parameter if you need to handle this\")\n",
        "            return\n",
        "\n",
        "\n",
        "  def delete(self,index):\n",
        "    if self.head is None:\n",
        "      raise IndexError(\"Index is out of Bounds, List is Empty\")\n",
        "    if index==0:\n",
        "      self.head = self.head.next\n",
        "      if self.head is None:\n",
        "        self.tail = None\n",
        "      return\n",
        "\n",
        "\n",
        "    i = 0\n",
        "    previous = None\n",
        "    current=self.head\n",
        "    while i< index and current:\n",
        "      i+=1\n",
        "      previous = current\n",
        "      current=current.next\n",
        "    if current is None:\n",
        "      raise IndexError(\"Index is out of Bounds, Can't be deleted\")\n",
        "\n",
        "    previous.next = current.next\n",
        "    if current.next is None:\n",
        "      self.tail = previous\n",
        "\n",
        "  def pop(self):\n",
        "    if self.head is None:\n",
        "      raise IndexError(\"Pop from empty list\")\n",
        "      return\n",
        "\n",
        "    if self.head == self.tail:\n",
        "      popped_data = self.head.data\n",
        "      self.head = self.tail = None\n",
        "      return popped_data\n",
        "\n",
        "    current = self.head\n",
        "    while current.next != self.tail:\n",
        "      current = current.next\n",
        "\n",
        "    popped_data = self.tail.data\n",
        "    self.tail = current\n",
        "    self.tail.next=None\n",
        "    return popped_data\n",
        "\n",
        "  def pop_start(self):\n",
        "    if self.head is None:  # Empty list\n",
        "        raise IndexError(\"Pop from empty list\")\n",
        "        return None\n",
        "\n",
        "    popped_data = self.head.data  # Store data to return\n",
        "    if self.head == self.tail:  # Single element in the list\n",
        "        self.head = self.tail = None\n",
        "    else:\n",
        "        self.head = self.head.next  # Move head to the next element\n",
        "    return popped_data\n",
        "  def reverse(self):\n",
        "    prev = None\n",
        "    current = self.head\n",
        "\n",
        "    while current:\n",
        "      nxt = current.next\n",
        "      current.next = prev\n",
        "      prev = current\n",
        "      current = nxt\n",
        "\n",
        "    self.head, self.tail = self.tail , self.head\n",
        "  def length(self):\n",
        "    count = 0\n",
        "    current = self.head\n",
        "\n",
        "    while current:\n",
        "      count+=1\n",
        "      current = current.next\n",
        "    return count\n",
        "  def find(self,data):\n",
        "    index = 0\n",
        "    current = self.head\n",
        "\n",
        "    while current:\n",
        "      if current.data == data:\n",
        "        return index\n",
        "      current = current.next\n",
        "      index+=1\n",
        "    return -1\n",
        "  def is_empty(self):\n",
        "    return self.head is None\n",
        "\n",
        "  def __iter__(self):\n",
        "    current = self.head\n",
        "    while current:\n",
        "      yield current.data\n",
        "      current = current.next\n",
        "\n",
        "  def print_list(self):\n",
        "    current= self.head\n",
        "    while current:\n",
        "      print(current.data)\n",
        "      current= current.next\n",
        "\n",
        "\n",
        "\n",
        "\n",
        "\n",
        "\n",
        "\n"
      ]
    },
    {
      "cell_type": "code",
      "source": [
        "llist = LinkedList()\n",
        "llist.insert_end(1)\n",
        "llist.insert_start(2)\n",
        "llist.insert_end(3)\n",
        "llist.insert_start(5)\n",
        "llist.pop()\n",
        "llist.reverse()\n",
        "\n",
        "\n",
        "llist.print_list()"
      ],
      "metadata": {
        "colab": {
          "base_uri": "https://localhost:8080/"
        },
        "id": "UH6VVuHPZSrB",
        "outputId": "f7cf5476-5f9f-4b88-e7c4-a4aa2213358b"
      },
      "execution_count": 44,
      "outputs": [
        {
          "output_type": "stream",
          "name": "stdout",
          "text": [
            "1\n",
            "2\n",
            "5\n"
          ]
        }
      ]
    },
    {
      "cell_type": "code",
      "source": [
        "llist.length()"
      ],
      "metadata": {
        "colab": {
          "base_uri": "https://localhost:8080/"
        },
        "id": "5iLKHCbOZWB7",
        "outputId": "3a0c612c-4ad4-43b8-fc52-430697d3c116"
      },
      "execution_count": 45,
      "outputs": [
        {
          "output_type": "execute_result",
          "data": {
            "text/plain": [
              "3"
            ]
          },
          "metadata": {},
          "execution_count": 45
        }
      ]
    },
    {
      "cell_type": "code",
      "source": [
        "llist.find(5)"
      ],
      "metadata": {
        "colab": {
          "base_uri": "https://localhost:8080/"
        },
        "id": "t0LroTPEgtkY",
        "outputId": "2926d3db-80d3-4b0d-fa2a-3f237e4ba1d6"
      },
      "execution_count": 46,
      "outputs": [
        {
          "output_type": "execute_result",
          "data": {
            "text/plain": [
              "2"
            ]
          },
          "metadata": {},
          "execution_count": 46
        }
      ]
    },
    {
      "cell_type": "code",
      "source": [
        "llist.insert_at_index(1,7)"
      ],
      "metadata": {
        "id": "oD4p97pfguup"
      },
      "execution_count": 47,
      "outputs": []
    },
    {
      "cell_type": "code",
      "source": [
        "llist.insert_at_index(index = 8,data = 60 , insert_at_end=True)\n",
        "llist.print_list()"
      ],
      "metadata": {
        "colab": {
          "base_uri": "https://localhost:8080/"
        },
        "id": "rEi_ZyZRiCC5",
        "outputId": "9ccd6e85-3cd9-4619-9bc2-eb849c89091a"
      },
      "execution_count": 49,
      "outputs": [
        {
          "output_type": "stream",
          "name": "stdout",
          "text": [
            "1\n",
            "7\n",
            "2\n",
            "5\n",
            "60\n"
          ]
        }
      ]
    },
    {
      "cell_type": "code",
      "source": [
        "for data in llist:\n",
        "  print(data)"
      ],
      "metadata": {
        "colab": {
          "base_uri": "https://localhost:8080/"
        },
        "id": "jqJUxoDriDOe",
        "outputId": "0477eb29-1229-4bfa-ac03-f3f692efc8fa"
      },
      "execution_count": 50,
      "outputs": [
        {
          "output_type": "stream",
          "name": "stdout",
          "text": [
            "1\n",
            "7\n",
            "2\n",
            "5\n",
            "60\n"
          ]
        }
      ]
    },
    {
      "cell_type": "markdown",
      "source": [
        "Some Adjustments\n",
        "1. Utilize __iter__ method\n",
        "2. Maintain a length parameter, trades space in memory for extra efficiency in time complexity which simplifies some methods"
      ],
      "metadata": {
        "id": "zbiBSXvOnbqi"
      }
    },
    {
      "cell_type": "code",
      "source": [
        "class Node:\n",
        "    def __init__(self, data=None):\n",
        "        self.data = data\n",
        "        self.next = None\n",
        "\n",
        "class LinkedList:\n",
        "    def __init__(self):\n",
        "        self.head = None\n",
        "        self.tail = None\n",
        "        self.length = 0  # Initialize length attribute\n",
        "\n",
        "    def insert_start(self, data):\n",
        "        new_node = Node(data)\n",
        "        if not self.head:  # List is empty\n",
        "            self.head = self.tail = new_node\n",
        "        else:\n",
        "            new_node.next = self.head\n",
        "            self.head = new_node\n",
        "        self.length += 1\n",
        "\n",
        "    def insert_end(self, data):\n",
        "        new_node = Node(data)\n",
        "        if not self.head:  # List is empty\n",
        "            self.head = self.tail = new_node\n",
        "        else:\n",
        "            self.tail.next = new_node\n",
        "            self.tail = new_node\n",
        "        self.length += 1\n",
        "\n",
        "    def insert_at_index(self, index, data, insert_at_end=True):\n",
        "        if index == 0 or not self.head:\n",
        "            self.insert_start(data)\n",
        "            return\n",
        "        if index >= self.length:\n",
        "            if insert_at_end:\n",
        "                self.insert_end(data)\n",
        "                return\n",
        "            else:\n",
        "                raise IndexError(\"Index is out of bounds. Can't insert there.\")\n",
        "\n",
        "        current = self.head\n",
        "        for _ in range(index - 1):\n",
        "            current = current.next\n",
        "            if not current:  # If current becomes None, index is out of bounds\n",
        "                raise IndexError(\"Index is out of bounds. Can't insert there.\")\n",
        "        new_node = Node(data)\n",
        "        new_node.next = current.next\n",
        "        current.next = new_node\n",
        "        self.length += 1\n",
        "\n",
        "    def delete(self, index):\n",
        "        if not self.head:\n",
        "            raise IndexError(\"List is empty\")\n",
        "        if index == 0:\n",
        "            self.head = self.head.next\n",
        "            if not self.head:  # List became empty\n",
        "                self.tail = None\n",
        "            self.length -= 1\n",
        "            return\n",
        "\n",
        "        current = self.head\n",
        "        for _ in range(index - 1):\n",
        "            if not current.next:  # If current's next is None, index is out of bounds\n",
        "                raise IndexError(\"Index is out of bounds. Can't delete.\")\n",
        "            current = current.next\n",
        "        if not current.next:  # Check again if we're at the end\n",
        "            raise IndexError(\"Index is out of bounds. Can't delete.\")\n",
        "        if current.next == self.tail:  # Adjust tail if necessary\n",
        "            self.tail = current\n",
        "        current.next = current.next.next\n",
        "        self.length -= 1\n",
        "\n",
        "    def pop(self):\n",
        "      if not self.head:  # If the list is empty\n",
        "          raise IndexError(\"Pop from empty list\")\n",
        "\n",
        "      # If there's only one element in the list\n",
        "      if self.head == self.tail:\n",
        "          popped_data = self.head.data\n",
        "          self.head = self.tail = None\n",
        "          self.length -= 1\n",
        "          return popped_data\n",
        "\n",
        "      # If there are more elements\n",
        "      current = self.head\n",
        "      while current.next != self.tail:  # Navigate to the second last node\n",
        "          current = current.next\n",
        "\n",
        "      popped_data = self.tail.data\n",
        "      self.tail = current\n",
        "      self.tail.next = None\n",
        "      self.length -= 1\n",
        "      return popped_data\n",
        "\n",
        "\n",
        "    def pop_start(self):\n",
        "      if not self.head:  # If the list is empty\n",
        "          raise IndexError(\"Pop from empty list\")\n",
        "\n",
        "      popped_data = self.head.data\n",
        "      self.head = self.head.next\n",
        "      if not self.head:  # If the list is now empty\n",
        "          self.tail = None\n",
        "      self.length -= 1\n",
        "      return popped_data\n",
        "\n",
        "\n",
        "    def reverse(self):\n",
        "        prev, current = None, self.head\n",
        "        while current:\n",
        "            nxt = current.next\n",
        "            current.next = prev\n",
        "            prev = current\n",
        "            current = nxt\n",
        "        self.head, self.tail = self.tail, self.head\n",
        "\n",
        "    def find(self, data):\n",
        "        for i, val in enumerate(self):\n",
        "            if val == data:\n",
        "                return i\n",
        "        return -1\n",
        "\n",
        "    def is_empty(self):\n",
        "        return self.head is None\n",
        "\n",
        "    def __iter__(self):\n",
        "        current = self.head\n",
        "        while current:\n",
        "            yield current.data\n",
        "            current = current.next\n",
        "\n",
        "    def print_list(self):\n",
        "        for data in self:\n",
        "            print(data)\n",
        "\n",
        "\n"
      ],
      "metadata": {
        "id": "cBFYguHvj61n"
      },
      "execution_count": 51,
      "outputs": []
    },
    {
      "cell_type": "code",
      "source": [],
      "metadata": {
        "id": "UPNrFTFFnp3F"
      },
      "execution_count": null,
      "outputs": []
    }
  ]
}