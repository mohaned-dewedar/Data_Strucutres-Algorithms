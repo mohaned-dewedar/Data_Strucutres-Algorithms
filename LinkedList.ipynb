{
  "cells": [
    {
      "cell_type": "code",
      "execution_count": 43,
      "metadata": {
        "id": "xgvBmJKWXXvy"
      },
      "outputs": [],
      "source": [
        "from ast import Return\n",
        "class Node():\n",
        "  def __init__(self,data=None):\n",
        "    self.data=data\n",
        "    self.next = None\n",
        "\n",
        "\n",
        "class LinkedList():\n",
        "  def __init__(self):\n",
        "    self.head=None\n",
        "    self.tail = None\n",
        "\n",
        "  def insert_start(self,data):\n",
        "    new_node = Node(data)\n",
        "    if self.head is None:  # List is empty\n",
        "        self.head = self.tail = new_node\n",
        "    else:\n",
        "        new_node.next = self.head\n",
        "        self.head = new_node\n",
        "\n",
        "  def insert_end(self , data):\n",
        "    new_node = Node(data)\n",
        "    if self.head is None:  # List is empty\n",
        "        self.head = self.tail = new_node\n",
        "    else:\n",
        "        self.tail.next = new_node\n",
        "        self.tail = new_node\n",
        "\n",
        "  def insert_at_index(self, index, data, insert_at_end=True):\n",
        "    if not self.head or index == 0:\n",
        "        self.insert_start(data)\n",
        "        return\n",
        "\n",
        "    current = self.head\n",
        "    position = 0\n",
        "    while current:\n",
        "        if position == index - 1:  # Found the position just before the index\n",
        "            new_node = Node(data)\n",
        "            new_node.next = current.next\n",
        "            current.next = new_node\n",
        "            return\n",
        "        current = current.next\n",
        "        position += 1\n",
        "        if not current.next and position < index:  # Reached the end but not the index\n",
        "            if insert_at_end:\n",
        "                self.insert_end(data)\n",
        "            else:\n",
        "                raise IndexError(\"Index is out of Bounds,Can not be inserted there. Check 'insert_at_end' parameter if you need to handle this\")\n",
        "            return\n",
        "\n",
        "\n",
        "  def delete(self,index):\n",
        "    if self.head is None:\n",
        "      raise IndexError(\"Index is out of Bounds, List is Empty\")\n",
        "    if index==0:\n",
        "      self.head = self.head.next\n",
        "      if self.head is None:\n",
        "        self.tail = None\n",
        "      return\n",
        "\n",
        "\n",
        "    i = 0\n",
        "    previous = None\n",
        "    current=self.head\n",
        "    while i< index and current:\n",
        "      i+=1\n",
        "      previous = current\n",
        "      current=current.next\n",
        "    if current is None:\n",
        "      raise IndexError(\"Index is out of Bounds, Can't be deleted\")\n",
        "\n",
        "    previous.next = current.next\n",
        "    if current.next is None:\n",
        "      self.tail = previous\n",
        "\n",
        "  def pop(self):\n",
        "    if self.head is None:\n",
        "      raise IndexError(\"Pop from empty list\")\n",
        "      return\n",
        "\n",
        "    if self.head == self.tail:\n",
        "      popped_data = self.head.data\n",
        "      self.head = self.tail = None\n",
        "      return popped_data\n",
        "\n",
        "    current = self.head\n",
        "    while current.next != self.tail:\n",
        "      current = current.next\n",
        "\n",
        "    popped_data = self.tail.data\n",
        "    self.tail = current\n",
        "    self.tail.next=None\n",
        "    return popped_data\n",
        "\n",
        "  def pop_start(self):\n",
        "    if self.head is None:  # Empty list\n",
        "        raise IndexError(\"Pop from empty list\")\n",
        "        return None\n",
        "\n",
        "    popped_data = self.head.data  # Store data to return\n",
        "    if self.head == self.tail:  # Single element in the list\n",
        "        self.head = self.tail = None\n",
        "    else:\n",
        "        self.head = self.head.next  # Move head to the next element\n",
        "    return popped_data\n",
        "  def reverse(self):\n",
        "    prev = None\n",
        "    current = self.head\n",
        "\n",
        "    while current:\n",
        "      nxt = current.next\n",
        "      current.next = prev\n",
        "      prev = current\n",
        "      current = nxt\n",
        "\n",
        "    self.head, self.tail = self.tail , self.head\n",
        "  def length(self):\n",
        "    count = 0\n",
        "    current = self.head\n",
        "\n",
        "    while current:\n",
        "      count+=1\n",
        "      current = current.next\n",
        "    return count\n",
        "  def find(self,data):\n",
        "    index = 0\n",
        "    current = self.head\n",
        "\n",
        "    while current:\n",
        "      if current.data == data:\n",
        "        return index\n",
        "      current = current.next\n",
        "      index+=1\n",
        "    return -1\n",
        "  def is_empty(self):\n",
        "    return self.head is None\n",
        "\n",
        "  def __iter__(self):\n",
        "    current = self.head\n",
        "    while current:\n",
        "      yield current.data\n",
        "      current = current.next\n",
        "\n",
        "  def print_list(self):\n",
        "    current= self.head\n",
        "    while current:\n",
        "      print(current.data)\n",
        "      current= current.next\n",
        "\n",
        "\n",
        "\n",
        "\n",
        "\n",
        "\n",
        "\n"
      ]
    },
    {
      "cell_type": "code",
      "execution_count": 44,
      "metadata": {
        "colab": {
          "base_uri": "https://localhost:8080/"
        },
        "id": "UH6VVuHPZSrB",
        "outputId": "f7cf5476-5f9f-4b88-e7c4-a4aa2213358b"
      },
      "outputs": [
        {
          "name": "stdout",
          "output_type": "stream",
          "text": [
            "1\n",
            "2\n",
            "5\n"
          ]
        }
      ],
      "source": [
        "llist = LinkedList()\n",
        "llist.insert_end(1)\n",
        "llist.insert_start(2)\n",
        "llist.insert_end(3)\n",
        "llist.insert_start(5)\n",
        "llist.pop()\n",
        "llist.reverse()\n",
        "\n",
        "\n",
        "llist.print_list()"
      ]
    },
    {
      "cell_type": "code",
      "execution_count": 45,
      "metadata": {
        "colab": {
          "base_uri": "https://localhost:8080/"
        },
        "id": "5iLKHCbOZWB7",
        "outputId": "3a0c612c-4ad4-43b8-fc52-430697d3c116"
      },
      "outputs": [
        {
          "data": {
            "text/plain": [
              "3"
            ]
          },
          "execution_count": 45,
          "metadata": {},
          "output_type": "execute_result"
        }
      ],
      "source": [
        "llist.length()"
      ]
    },
    {
      "cell_type": "code",
      "execution_count": 46,
      "metadata": {
        "colab": {
          "base_uri": "https://localhost:8080/"
        },
        "id": "t0LroTPEgtkY",
        "outputId": "2926d3db-80d3-4b0d-fa2a-3f237e4ba1d6"
      },
      "outputs": [
        {
          "data": {
            "text/plain": [
              "2"
            ]
          },
          "execution_count": 46,
          "metadata": {},
          "output_type": "execute_result"
        }
      ],
      "source": [
        "llist.find(5)"
      ]
    },
    {
      "cell_type": "code",
      "execution_count": 47,
      "metadata": {
        "id": "oD4p97pfguup"
      },
      "outputs": [],
      "source": [
        "llist.insert_at_index(1,7)"
      ]
    },
    {
      "cell_type": "code",
      "execution_count": 49,
      "metadata": {
        "colab": {
          "base_uri": "https://localhost:8080/"
        },
        "id": "rEi_ZyZRiCC5",
        "outputId": "9ccd6e85-3cd9-4619-9bc2-eb849c89091a"
      },
      "outputs": [
        {
          "name": "stdout",
          "output_type": "stream",
          "text": [
            "1\n",
            "7\n",
            "2\n",
            "5\n",
            "60\n"
          ]
        }
      ],
      "source": [
        "llist.insert_at_index(index = 8,data = 60 , insert_at_end=True)\n",
        "llist.print_list()"
      ]
    },
    {
      "cell_type": "code",
      "execution_count": 50,
      "metadata": {
        "colab": {
          "base_uri": "https://localhost:8080/"
        },
        "id": "jqJUxoDriDOe",
        "outputId": "0477eb29-1229-4bfa-ac03-f3f692efc8fa"
      },
      "outputs": [
        {
          "name": "stdout",
          "output_type": "stream",
          "text": [
            "1\n",
            "7\n",
            "2\n",
            "5\n",
            "60\n"
          ]
        }
      ],
      "source": [
        "for data in llist:\n",
        "  print(data)"
      ]
    },
    {
      "cell_type": "markdown",
      "metadata": {
        "id": "zbiBSXvOnbqi"
      },
      "source": [
        "Some Adjustments\n",
        "1. Utilize __iter__ method\n",
        "2. Maintain a length parameter, trades space in memory for extra efficiency in time complexity which simplifies some methods"
      ]
    },
    {
      "cell_type": "code",
      "execution_count": 51,
      "metadata": {
        "id": "cBFYguHvj61n"
      },
      "outputs": [],
      "source": [
        "class Node:\n",
        "    def __init__(self, data=None):\n",
        "        self.data = data\n",
        "        self.next = None\n",
        "\n",
        "class LinkedList:\n",
        "    def __init__(self):\n",
        "        self.head = None\n",
        "        self.tail = None\n",
        "        self.length = 0  # Initialize length attribute\n",
        "\n",
        "    def insert_start(self, data):\n",
        "        new_node = Node(data)\n",
        "        if not self.head:  # List is empty\n",
        "            self.head = self.tail = new_node\n",
        "        else:\n",
        "            new_node.next = self.head\n",
        "            self.head = new_node\n",
        "        self.length += 1\n",
        "\n",
        "    def insert_end(self, data):\n",
        "        new_node = Node(data)\n",
        "        if not self.head:  # List is empty\n",
        "            self.head = self.tail = new_node\n",
        "        else:\n",
        "            self.tail.next = new_node\n",
        "            self.tail = new_node\n",
        "        self.length += 1\n",
        "\n",
        "    def insert_at_index(self, index, data, insert_at_end=True):\n",
        "        if index == 0 or not self.head:\n",
        "            self.insert_start(data)\n",
        "            return\n",
        "        if index >= self.length:\n",
        "            if insert_at_end:\n",
        "                self.insert_end(data)\n",
        "                return\n",
        "            else:\n",
        "                raise IndexError(\"Index is out of bounds. Can't insert there.\")\n",
        "\n",
        "        current = self.head\n",
        "        for _ in range(index - 1):\n",
        "            current = current.next\n",
        "            if not current:  # If current becomes None, index is out of bounds\n",
        "                raise IndexError(\"Index is out of bounds. Can't insert there.\")\n",
        "        new_node = Node(data)\n",
        "        new_node.next = current.next\n",
        "        current.next = new_node\n",
        "        self.length += 1\n",
        "\n",
        "    def delete(self, index):\n",
        "        if not self.head:\n",
        "            raise IndexError(\"List is empty\")\n",
        "        if index == 0:\n",
        "            self.head = self.head.next\n",
        "            if not self.head:  # List became empty\n",
        "                self.tail = None\n",
        "            self.length -= 1\n",
        "            return\n",
        "\n",
        "        current = self.head\n",
        "        for _ in range(index - 1):\n",
        "            if not current.next:  # If current's next is None, index is out of bounds\n",
        "                raise IndexError(\"Index is out of bounds. Can't delete.\")\n",
        "            current = current.next\n",
        "        if not current.next:  # Check again if we're at the end\n",
        "            raise IndexError(\"Index is out of bounds. Can't delete.\")\n",
        "        if current.next == self.tail:  # Adjust tail if necessary\n",
        "            self.tail = current\n",
        "        current.next = current.next.next\n",
        "        self.length -= 1\n",
        "\n",
        "    def pop(self):\n",
        "      if not self.head:  # If the list is empty\n",
        "          raise IndexError(\"Pop from empty list\")\n",
        "\n",
        "      # If there's only one element in the list\n",
        "      if self.head == self.tail:\n",
        "          popped_data = self.head.data\n",
        "          self.head = self.tail = None\n",
        "          self.length -= 1\n",
        "          return popped_data\n",
        "\n",
        "      # If there are more elements\n",
        "      current = self.head\n",
        "      while current.next != self.tail:  # Navigate to the second last node\n",
        "          current = current.next\n",
        "\n",
        "      popped_data = self.tail.data\n",
        "      self.tail = current\n",
        "      self.tail.next = None\n",
        "      self.length -= 1\n",
        "      return popped_data\n",
        "\n",
        "\n",
        "    def pop_start(self):\n",
        "      if not self.head:  # If the list is empty\n",
        "          raise IndexError(\"Pop from empty list\")\n",
        "\n",
        "      popped_data = self.head.data\n",
        "      self.head = self.head.next\n",
        "      if not self.head:  # If the list is now empty\n",
        "          self.tail = None\n",
        "      self.length -= 1\n",
        "      return popped_data\n",
        "\n",
        "\n",
        "    def reverse(self):\n",
        "        prev, current = None, self.head\n",
        "        while current:\n",
        "            nxt = current.next\n",
        "            current.next = prev\n",
        "            prev = current\n",
        "            current = nxt\n",
        "        self.head, self.tail = self.tail, self.head\n",
        "\n",
        "    def find(self, data):\n",
        "        for i, val in enumerate(self):\n",
        "            if val == data:\n",
        "                return i\n",
        "        return -1\n",
        "\n",
        "    def is_empty(self):\n",
        "        return self.head is None\n",
        "\n",
        "    def __iter__(self):\n",
        "        current = self.head\n",
        "        while current:\n",
        "            yield current.data\n",
        "            current = current.next\n",
        "\n",
        "    def print_list(self):\n",
        "        for data in self:\n",
        "            print(data)\n",
        "\n",
        "\n"
      ]
    },
    {
      "cell_type": "markdown",
      "metadata": {},
      "source": [
        "Additional Changes which include adding more Magic Methods \n"
      ]
    },
    {
      "cell_type": "code",
      "execution_count": 28,
      "metadata": {
        "id": "UPNrFTFFnp3F"
      },
      "outputs": [],
      "source": [
        "class Node():\n",
        "  def __init__(self,data=None):\n",
        "    self.data=data\n",
        "    self.next = None\n",
        "\n",
        "\n",
        "class LinkedList():\n",
        "  def __init__(self,*args):\n",
        "    self.head=None\n",
        "    self.tail = None\n",
        "\n",
        "    for data in args:\n",
        "      self.insert_end(data)\n",
        "\n",
        "  def insert_start(self,data):\n",
        "    new_node = Node(data)\n",
        "    if self.head is None:  # List is empty\n",
        "        self.head = self.tail = new_node\n",
        "    else:\n",
        "        new_node.next = self.head\n",
        "        self.head = new_node\n",
        "\n",
        "  def insert_end(self , data):\n",
        "    new_node = Node(data)\n",
        "    if self.head is None:  # List is empty\n",
        "        self.head = self.tail = new_node\n",
        "    else:\n",
        "        self.tail.next = new_node\n",
        "        self.tail = new_node\n",
        "\n",
        "  def insert_at_index(self, index, data, insert_at_end=True):\n",
        "    if not self.head or index == 0:\n",
        "        self.insert_start(data)\n",
        "        return\n",
        "\n",
        "    current = self.head\n",
        "    position = 0\n",
        "    while current:\n",
        "        if position == index - 1:  # Found the position just before the index\n",
        "            new_node = Node(data)\n",
        "            new_node.next = current.next\n",
        "            current.next = new_node\n",
        "            return\n",
        "        current = current.next\n",
        "        position += 1\n",
        "        if not current.next and position < index:  # Reached the end but not the index\n",
        "            if insert_at_end:\n",
        "                self.insert_end(data)\n",
        "            else:\n",
        "                raise IndexError(\"Index is out of Bounds,Can not be inserted there. Check 'insert_at_end' parameter if you need to handle this\")\n",
        "            return\n",
        "\n",
        "\n",
        "  def delete(self,index):\n",
        "    if self.head is None:\n",
        "      raise IndexError(\"Index is out of Bounds, List is Empty\")\n",
        "    if index==0:\n",
        "      self.head = self.head.next\n",
        "      if self.head is None:\n",
        "        self.tail = None\n",
        "      return\n",
        "\n",
        "\n",
        "    i = 0\n",
        "    previous = None\n",
        "    current=self.head\n",
        "    while i< index and current:\n",
        "      i+=1\n",
        "      previous = current\n",
        "      current=current.next\n",
        "    if current is None:\n",
        "      raise IndexError(\"Index is out of Bounds, Can't be deleted\")\n",
        "\n",
        "    previous.next = current.next\n",
        "    if current.next is None:\n",
        "      self.tail = previous\n",
        "\n",
        "  def pop(self):\n",
        "    if self.head is None:\n",
        "      raise IndexError(\"Pop from empty list\")\n",
        "\n",
        "    if self.head == self.tail:\n",
        "      popped_data = self.head.data\n",
        "      self.head = self.tail = None\n",
        "      return popped_data\n",
        "\n",
        "    current = self.head\n",
        "    while current.next != self.tail:\n",
        "      current = current.next\n",
        "\n",
        "    popped_data = self.tail.data\n",
        "    self.tail = current\n",
        "    self.tail.next=None\n",
        "    return popped_data\n",
        "\n",
        "  def pop_start(self):\n",
        "    if self.head is None:  # Empty list\n",
        "        raise IndexError(\"Pop from empty list\")\n",
        "\n",
        "    popped_data = self.head.data  # Store data to return\n",
        "    if self.head == self.tail:  # Single element in the list\n",
        "        self.head = self.tail = None\n",
        "    else:\n",
        "        self.head = self.head.next  # Move head to the next element\n",
        "    return popped_data\n",
        "  \n",
        "  def reverse(self):\n",
        "    prev = None\n",
        "    current = self.head\n",
        "\n",
        "    while current:\n",
        "      nxt = current.next\n",
        "      current.next = prev\n",
        "      prev = current\n",
        "      current = nxt\n",
        "\n",
        "    self.head, self.tail = self.tail , self.head\n",
        "\n",
        "  def length(self):\n",
        "    count = 0\n",
        "    current = self.head\n",
        "\n",
        "    while current:\n",
        "      count+=1\n",
        "      current = current.next\n",
        "    return count\n",
        "\n",
        "  \n",
        "  def find(self,data):\n",
        "    index = 0\n",
        "    current = self.head\n",
        "\n",
        "    while current:\n",
        "      if current.data == data:\n",
        "        return index\n",
        "      current = current.next\n",
        "      index+=1\n",
        "    return -1\n",
        "  \n",
        "  def is_empty(self):\n",
        "    return self.head is None\n",
        "\n",
        "  def __iter__(self):\n",
        "    current = self.head\n",
        "    while current:\n",
        "      yield current.data\n",
        "      current = current.next\n",
        "\n",
        "  def __len__(self):\n",
        "    return self.length()    \n",
        "\n",
        "  def __contains__(self,data):\n",
        "    return self.find(data) != -1\n",
        "  \n",
        "  def __str__(self):\n",
        "    values = [str(data) for data in self]\n",
        "    return '->'.join(values)\n",
        "  \n",
        "  def __repr__(self):\n",
        "    values = [repr(data) for data in self]\n",
        "    return f\"{self.__class__.__name__}([{', '.join(values)}])\"\n",
        "  \n",
        "  def __getitem__(self, index):\n",
        "      if index < 0 or index >= self.length():\n",
        "          raise IndexError(\"Index out of bounds\")\n",
        "      current = self.head\n",
        "      for _ in range(index):\n",
        "          current = current.next\n",
        "      return current.data\n",
        "  \n",
        "  def __setitem__(self, index, data):\n",
        "    # Convert negative indices\n",
        "    if index < 0:\n",
        "        index = self.length() + index\n",
        "    if index < 0:\n",
        "        raise IndexError(\"Index out of bounds\")  # If it's still negative, it's out of bounds\n",
        "\n",
        "    current = self.head\n",
        "    for i in range(index):\n",
        "        if current is None:\n",
        "            raise IndexError(\"Index out of bounds\")\n",
        "        current = current.next\n",
        "    if current is None:\n",
        "        raise IndexError(\"Index out of bounds\")\n",
        "    current.data = data\n",
        "\n",
        "    \n",
        "  def __add__(self, other):\n",
        "    new_list = LinkedList()\n",
        "    if not isinstance(other, LinkedList):\n",
        "       return NotImplemented\n",
        "    for data in self:\n",
        "        new_list.insert_end(data)\n",
        "    for data in other:\n",
        "        new_list.insert_end(data)\n",
        "    return new_list\n",
        "  \n",
        "  def __mul__(self, n):\n",
        "    if not isinstance(n, int):\n",
        "        return NotImplemented\n",
        "\n",
        "    new_list = LinkedList()\n",
        "    for _ in range(n):\n",
        "        for data in self:\n",
        "            new_list.insert_end(data)\n",
        "    return new_list\n",
        "\n",
        "\n",
        "\n",
        "  def print_list(self):\n",
        "    current= self.head\n",
        "    while current:\n",
        "      print(current.data)\n",
        "      current= current.next\n",
        "\n",
        "\n",
        "\n",
        "\n"
      ]
    },
    {
      "cell_type": "code",
      "execution_count": 37,
      "metadata": {},
      "outputs": [
        {
          "name": "stdout",
          "output_type": "stream",
          "text": [
            "1->2->3->4->5->6->7->8->9->10\n"
          ]
        }
      ],
      "source": [
        "test_ll = LinkedList(1,2,3,4,5,6,7,8,9,10)\n",
        "print(test_ll)\n"
      ]
    },
    {
      "cell_type": "code",
      "execution_count": 19,
      "metadata": {},
      "outputs": [
        {
          "name": "stdout",
          "output_type": "stream",
          "text": [
            "1->2->3->4\n"
          ]
        }
      ],
      "source": [
        "ll = LinkedList()\n",
        "ll.insert_end(1)\n",
        "ll.insert_end(2)\n",
        "ll.insert_end(3)\n",
        "ll.insert_end(4)\n",
        "print(ll)"
      ]
    },
    {
      "cell_type": "code",
      "execution_count": 20,
      "metadata": {},
      "outputs": [
        {
          "data": {
            "text/plain": [
              "'LinkedList([1, 2, 3, 4])'"
            ]
          },
          "execution_count": 20,
          "metadata": {},
          "output_type": "execute_result"
        }
      ],
      "source": [
        "repr(ll)"
      ]
    },
    {
      "cell_type": "code",
      "execution_count": 21,
      "metadata": {},
      "outputs": [
        {
          "data": {
            "text/plain": [
              "LinkedList([1, 2, 3, 4, 5, 6, 7])"
            ]
          },
          "execution_count": 21,
          "metadata": {},
          "output_type": "execute_result"
        }
      ],
      "source": [
        "ll2 = LinkedList()\n",
        "ll2.insert_end(5)\n",
        "ll2.insert_end(6)\n",
        "ll2.insert_end(7)\n",
        "\n",
        "ll + ll2"
      ]
    },
    {
      "cell_type": "code",
      "execution_count": 22,
      "metadata": {},
      "outputs": [
        {
          "data": {
            "text/plain": [
              "LinkedList([1, 2, 3, 4, 1, 2, 3, 4, 1, 2, 3, 4])"
            ]
          },
          "execution_count": 22,
          "metadata": {},
          "output_type": "execute_result"
        }
      ],
      "source": [
        "ll * 3"
      ]
    },
    {
      "cell_type": "code",
      "execution_count": 23,
      "metadata": {},
      "outputs": [
        {
          "data": {
            "text/plain": [
              "[1, 2, 3, 4]"
            ]
          },
          "execution_count": 23,
          "metadata": {},
          "output_type": "execute_result"
        }
      ],
      "source": [
        "list(ll)"
      ]
    },
    {
      "cell_type": "code",
      "execution_count": 24,
      "metadata": {},
      "outputs": [
        {
          "data": {
            "text/plain": [
              "3"
            ]
          },
          "execution_count": 24,
          "metadata": {},
          "output_type": "execute_result"
        }
      ],
      "source": [
        "ll[2]"
      ]
    },
    {
      "cell_type": "code",
      "execution_count": 26,
      "metadata": {},
      "outputs": [
        {
          "data": {
            "text/plain": [
              "76"
            ]
          },
          "execution_count": 26,
          "metadata": {},
          "output_type": "execute_result"
        }
      ],
      "source": [
        "ll[2] = 76\n",
        "ll[2]"
      ]
    },
    {
      "cell_type": "code",
      "execution_count": 27,
      "metadata": {},
      "outputs": [
        {
          "name": "stdout",
          "output_type": "stream",
          "text": [
            "4\n",
            "76\n",
            "2\n",
            "1\n"
          ]
        }
      ],
      "source": [
        "for data in reversed(ll):\n",
        "    print(data)"
      ]
    },
    {
      "cell_type": "code",
      "execution_count": null,
      "metadata": {},
      "outputs": [],
      "source": []
    }
  ],
  "metadata": {
    "colab": {
      "provenance": []
    },
    "kernelspec": {
      "display_name": "Python 3",
      "name": "python3"
    },
    "language_info": {
      "codemirror_mode": {
        "name": "ipython",
        "version": 3
      },
      "file_extension": ".py",
      "mimetype": "text/x-python",
      "name": "python",
      "nbconvert_exporter": "python",
      "pygments_lexer": "ipython3",
      "version": "3.11.8"
    }
  },
  "nbformat": 4,
  "nbformat_minor": 0
}
